{
 "cells": [
  {
   "metadata": {},
   "cell_type": "markdown",
   "source": [
    "# Loops, Logic, and Data Structures\n",
    "\n",
    "- practical project: Fibonacci sequence\n",
    "- for loops,\n",
    "- while loops,\n",
    "- if statements,"
   ],
   "id": "9c7ff0bbc2c8e91d"
  },
  {
   "metadata": {},
   "cell_type": "markdown",
   "source": [
    "Today we'll be learning about loops and logical functions in Python. These are very handy when you want to iterate through data and perform actions based on a condition.\n",
    "\n",
    "## Conditional Operators in Python\n",
    "The basics of conditional operators are `if`, `elif`, and `else`. These form the backbone of logic in Python. It's like writing a sentence, \"If Joe likes apples, give him an apple, if he likes something else like oranges, give him an orange. If all else fails, give him a banana.\"\n",
    "\n",
    "`if` tells the computer to execute the following code block _if_ a condition is true.<br>\n",
    "`elif` tells the computer to execute the following code block _if_ nothing _el_se above was true. (optional, but requires an if)<br>\n",
    "`else` tells the computer is the fallback scenario. Do this if nothing _else_ works. (optional, but requires an if)<br>\n",
    "\n",
    "See the codeblock below for an example of how they work."
   ],
   "id": "11375f531b27fa2c"
  },
  {
   "metadata": {},
   "cell_type": "code",
   "source": [
    "from operator import truediv\n",
    "\n",
    "condition1 = False\n",
    "condition2 = True\n",
    "if condition1:\n",
    "    print(\"This happened!\")\n",
    "elif condition2:\n",
    "    print(\"That happened!\")\n",
    "else:\n",
    "    print(\"Neither this nor that happened.\")"
   ],
   "id": "6565cc20d1054f53",
   "outputs": [],
   "execution_count": null
  },
  {
   "metadata": {},
   "cell_type": "markdown",
   "source": [
    "Try changing condition1 and condition2 above to trigger all the cases!\n",
    "\n",
    "### Logical operators\n",
    "\n",
    "Another crucial part to if statements are logical operators. These allow you to better describe a situation in where you want some code to execute. In Python, the logical operators are `and`, `or`, and `not`. These are used in cases where you want an event to trigger if a combination of conditions is true. This is why these operators are sometimes called conditionals.\n",
    "\n",
    "In the code block below, there's an example of these conditionals being put to use. What do you think will be printed out?"
   ],
   "id": "ed4891e9af7206ab"
  },
  {
   "metadata": {},
   "cell_type": "code",
   "source": [
    "sunny = True\n",
    "hot = False\n",
    "rainy = False\n",
    "if sunny and hot:\n",
    "    print(\"You should wear a hat and some shorts!\")\n",
    "elif sunny or hot:\n",
    "    print(\"It must be the summer.\")\n",
    "if not sunny and not hot:\n",
    "    print(\"Seems like it's going to be refreshing outside.\")\n",
    "if sunny:\n",
    "    print(\"Make sure to wear sunscreen, you don't want permanent skin damage.\")"
   ],
   "id": "8c69162d6dc8c0c0",
   "outputs": [],
   "execution_count": null
  },
  {
   "metadata": {},
   "cell_type": "markdown",
   "source": [
    "Another type of logical operator is the comparison operator. These are used to compare two values and return a boolean value (`True` or `False`). The most common comparison operators in Python are:\n",
    "- `==`: Equal to\n",
    "- `!=`: Not equal to\n",
    "- `<`: Less than\n",
    "- `<=`: Less than or equal to\n",
    "- `>`: Greater than\n",
    "- `>=`: Greater than or equal to\n",
    "These operators are often used in `if` statements to check if a condition is met. For example, you can use the `==` operator to check if a variable is equal to a certain value:"
   ],
   "id": "4cc4e06c124ed4a7"
  },
  {
   "metadata": {},
   "cell_type": "code",
   "source": [
    "x = 8 # try changing this value to see how the output changes\n",
    "print(\"The value of x is:\", x)\n",
    "if x < 5:\n",
    "    print(\"x is less than 5\")\n",
    "elif x == 5:\n",
    "    print(\"x is equal to 5\")\n",
    "else:\n",
    "    print(\"x is greater than and not equal to 5\")"
   ],
   "id": "f80358ab981e0251",
   "outputs": [],
   "execution_count": null
  },
  {
   "metadata": {},
   "cell_type": "markdown",
   "source": "Warning! A common mistake that people (including me haha) make is using a single `=` instead of `==` when checking for equality. The single `=` is used for assignment, while `==` is used for comparison. If you use a single `=`, you will get an error because Python will try to assign the value to the variable instead of comparing it.",
   "id": "62ac9d8781a830bd"
  },
  {
   "metadata": {
    "collapsed": true
   },
   "cell_type": "code",
   "source": [
    "x = 6.7\n",
    "if x = 6.7:\n",
    "    print(\"This will cause an error because of the single equals sign.\")"
   ],
   "id": "initial_id",
   "outputs": [],
   "execution_count": null
  },
  {
   "metadata": {},
   "cell_type": "markdown",
   "source": [
    "## Loops\n",
    "\n",
    "Loops are a way of telling your computer to repeat a block of code multiple times. They are very useful when you want to perform the same action on a collection of items or when you want to repeat an action until a certain condition is met. There are two main types of loops in Python: `while` loops and `for` loops.\n",
    "\n",
    "### `while` Loops\n",
    "\n",
    "While loops are the most basic type of loop. They will continue to execute a block of code as long as a specified condition is `True`. Here's an example that prints the numbers 0 through 4:"
   ],
   "id": "de9d5b8f33d084c9"
  },
  {
   "metadata": {},
   "cell_type": "code",
   "source": [
    "x = 0\n",
    "while x < 5:\n",
    "    print(x)\n",
    "    x += 1  # This is shorthand for x = x + 1"
   ],
   "id": "5c401d92dcf93c68",
   "outputs": [],
   "execution_count": null
  },
  {
   "metadata": {},
   "cell_type": "markdown",
   "source": "Now, lets try making a while loop that prints out the first 10 numbers of the Fibonacci sequence. The Fibonacci sequence is a series of numbers where each number is the sum of the two preceding ones, usually starting with 0 and 1. The sequence goes like this: 0, 1, 1, 2, 3, 5, 8, 13, 21, and so on.",
   "id": "a1627a9e9d4092c6"
  },
  {
   "metadata": {},
   "cell_type": "code",
   "source": [
    "# Your code here!\n",
    "while False:  # Change this condition to make the loop run\n",
    "    pass  # Replace this with your code to print the Fibonacci sequence"
   ],
   "id": "c5f1e3c39456b0b5",
   "outputs": [],
   "execution_count": null
  },
  {
   "metadata": {},
   "cell_type": "markdown",
   "source": [
    "### `for` Loops\n",
    "\n",
    "A for loop is another type of loop that allows you to iterate over a sequence (like a list or a string) or a range of numbers. They are often used when you know the number of iterations in advance. Here's an example that prints each element in a list:"
   ],
   "id": "5149b333ba4c26d1"
  },
  {
   "metadata": {},
   "cell_type": "code",
   "source": [
    "shopping_list = [\"apples\", \"bananas\", \"oranges\", \"milk\"]\n",
    "for item in shopping_list:\n",
    "    print(item)"
   ],
   "id": "455ceab1a84d22d8",
   "outputs": [],
   "execution_count": null
  },
  {
   "metadata": {},
   "cell_type": "markdown",
   "source": [
    "If we want to perform a specific action a certain number of times, we can use the `range()` function. This function generates a sequence of numbers, which we can then iterate over with a for loop.\n",
    "`range(start, stop, step)` generates numbers starting from `start` up to (but not including) `stop`, incrementing by `step`. If `start` is omitted, it defaults to 0, and if `step` is omitted, it defaults to 1.\n",
    "Here's an example that prints the even numbers from 0 to 10:"
   ],
   "id": "b09a1b601c8943c5"
  },
  {
   "metadata": {},
   "cell_type": "code",
   "source": [
    "for i in range(0, 11, 2):  # Start at 0, go up to 10, step by 2\n",
    "    print(i)\n",
    "for i in range(11): # range defaults to starting at 0\n",
    "    if i % 2 == 0:  # Check if the number is even\n",
    "        print(i)\n"
   ],
   "id": "d4386055b762f3d1",
   "outputs": [],
   "execution_count": null
  },
  {
   "metadata": {},
   "cell_type": "markdown",
   "source": [
    "## Exercise: Prime Number Finder\n",
    "\n",
    "You've been equipped with all the tools you need to tackle this final exercise. Your task is to write a program that finds all prime numbers between 1 and 100. A prime number is a natural number greater than 1 that cannot be formed by multiplying two smaller integers. In other words, a prime number is only divisible by 1 and itself. If you need a hint, scroll down below the code block.\n",
    "\n",
    "Try looping through the numbers from 2 to 100 and checking if they are prime (hint: loop through its possible factors!). If you need a reminder on how to do this, you can scroll back up for a quick refresher."
   ],
   "id": "d540d83638e5e513"
  },
  {
   "metadata": {},
   "cell_type": "code",
   "source": [
    "import math # import the math module to use the sqrt function\n",
    "print(math.sqrt(25)) # this function might be helpful for your solution ^-^\n",
    "# Your code here!\n",
    "#\n",
    "#\n",
    "#\n",
    "#\n",
    "#\n",
    "#\n",
    "#\n",
    "#\n",
    "#\n",
    "#\n",
    "#\n",
    "#\n",
    "#\n",
    "#\n",
    "#\n",
    "#\n",
    "#\n",
    "# hi there :D"
   ],
   "id": "c1237dea9c781ba8",
   "outputs": [],
   "execution_count": null
  },
  {
   "metadata": {},
   "cell_type": "markdown",
   "source": [
    "Here's a quick reminder of the steps you might take:\n",
    "1. Use a `for` loop to iterate through numbers from 2 to 100.\n",
    "2. For each number, use a nested `for` loop to check if it is divisible by any number from 2 to the square root of that number. (use math.sqrt(n) to find the square root of a number.)\n",
    "3. If it is not divisible by any of those numbers, it is a prime number.\n",
    "4. Print the prime numbers you find."
   ],
   "id": "514c9ac7b40e12d1"
  },
  {
   "metadata": {},
   "cell_type": "markdown",
   "source": [
    "## Looping through Data Structures\n",
    "\n",
    "There are several ways to loop through data structures in Python, some of which make a decent amount of sense, others which are a bit more confusing. The most common way to loop through data structures is a `for` loop. You  can use a `for` loop to iterate over the elements of a list, tuple, dictionary or string. The formula for this is `for item in data_structure:` where `data_structure` is the list, tuple, dictionary, or string you want to loop through. The `item` variable will take on the value of each element in the data structure as you iterate through it. Remember, you can only use this variable in its scope, which is in the loop.\n",
    "\n",
    "\n",
    "Run the code block below to see how it works with with a list, tuple, and string."
   ],
   "id": "86ced348d75996ff"
  },
  {
   "metadata": {
    "ExecuteTime": {
     "end_time": "2025-08-20T14:00:14.038725Z",
     "start_time": "2025-08-20T14:00:14.033627Z"
    }
   },
   "cell_type": "code",
   "source": [
    "for char in \"hello\":\n",
    "    print(char)  # This will print each character in the string \"hello\", because strings are like arrays of characters\n",
    "\n",
    "backpack = [\"laptop\", \"slightly broken TV\", \"water cooler\", \"monster energy\", \"a pencil stub that has only an eraser left\", \"Ace of Spades\", \"Rules Card\"]\n",
    "\n",
    "for item in backpack:\n",
    "    print(item)  # loops through each item in the backpack list and prints it\n",
    "\n",
    "PANTONE_448_C = (74, 65, 42) # the ugliest color in the world, used on cigarette packaging\n",
    "for color in PANTONE_448_C:\n",
    "    print(color)  # loops through each element in the tuple and prints it\n"
   ],
   "id": "a5abdd452c035940",
   "outputs": [
    {
     "name": "stdout",
     "output_type": "stream",
     "text": [
      "h\n",
      "e\n",
      "l\n",
      "l\n",
      "o\n"
     ]
    }
   ],
   "execution_count": 1
  },
  {
   "metadata": {},
   "cell_type": "markdown",
   "source": [
    "## Looping through Dictionaries\n",
    "Dictionaries are a bit different from lists and tuples, as they are key-value pairs. You can either loop through the keys, the values, or both. Here's how you can do that:"
   ],
   "id": "1c5b0e5b36671b1f"
  },
  {
   "metadata": {},
   "cell_type": "code",
   "outputs": [],
   "execution_count": null,
   "source": [
    "shop = {\n",
    "    \"apples\": 1.5,\n",
    "    \"bananas\": 0.5,\n",
    "    \"oranges\": 0.75,\n",
    "    \"milk\": 2.0,\n",
    "    \"eggs\": 999, # eggs are expensive these days, all the tariffs :pensive:\n",
    "}\n",
    "\n",
    "# Looping through keys\n",
    "for item in shop:\n",
    "    print(item)  # This will print each key in the dictionary\n",
    "# Looping through values\n",
    "for price in shop.values():\n",
    "    print(price)  # This will print each value in the dictionary\n",
    "# alternative way to loop through prices\n",
    "for item in shop:\n",
    "    print(shop[item]) # access the price for each item using the key\n",
    "\n",
    "# Looping through both keys and values\n",
    "for item, price in shop.items():\n",
    "    print(f\"{item}: ${price}\")  # This will print each key-value pair in the dictionary"
   ],
   "id": "d3d1af4f4b5195e7"
  },
  {
   "metadata": {},
   "cell_type": "markdown",
   "source": "In the last few lines in the code cell above, you can see that we used two loop variables and the shop.items() method. This method returns a tuple of the key-value pairs, which we can then unpack into two variables, `item` and `price`. This is a useful way to loop through dictionaries when you need both the key and the value.",
   "id": "c8ee33d12a560ace"
  },
  {
   "metadata": {},
   "cell_type": "markdown",
   "source": [
    "## List Comprehension\n",
    "\n",
    "List comprehension is probably one of the most confusing yet useful things that you'll come accross in python.  If you've ever used a filter in another language, it's pretty much that. List comprehension lets you create a new list by applying an expression to each item in an existing iterable (like a list or a string) in a single line of code. The syntax is `new_iterable = [expression for item in iterable if condition]`. The `if condition` part is optional, but it allows you to filter the items in the iterable based on a condition.\n",
    "\n",
    "Let's say I wanted to create a list of the squares of the numbers from 0 to 9. I could do it with list comprehension like this:"
   ],
   "id": "2fb25b4b5f1c4fcb"
  },
  {
   "metadata": {
    "ExecuteTime": {
     "end_time": "2025-08-20T16:35:13.132352Z",
     "start_time": "2025-08-20T16:35:13.093430Z"
    }
   },
   "cell_type": "code",
   "source": [
    "squares = [x**2 for x in range(10)]\n",
    "print(squares)"
   ],
   "id": "664e194baa78c948",
   "outputs": [
    {
     "name": "stdout",
     "output_type": "stream",
     "text": [
      "[0, 1, 4, 9, 16, 25, 36, 49, 64, 81]\n"
     ]
    }
   ],
   "execution_count": 2
  },
  {
   "metadata": {},
   "cell_type": "markdown",
   "source": "However, lets say I only wanted the squares of the even numbers. I could add a condition to the list comprehension like this:",
   "id": "6460b1337be0f4da"
  },
  {
   "metadata": {},
   "cell_type": "code",
   "outputs": [],
   "execution_count": null,
   "source": "even_squares = [x**2 for x in range(10) if x % 2 == 0]\n",
   "id": "22c54f87234a5eb2"
  }
 ],
 "metadata": {
  "kernelspec": {
   "display_name": "Python 3",
   "language": "python",
   "name": "python3"
  },
  "language_info": {
   "codemirror_mode": {
    "name": "ipython",
    "version": 2
   },
   "file_extension": ".py",
   "mimetype": "text/x-python",
   "name": "python",
   "nbconvert_exporter": "python",
   "pygments_lexer": "ipython2",
   "version": "2.7.6"
  }
 },
 "nbformat": 4,
 "nbformat_minor": 5
}
