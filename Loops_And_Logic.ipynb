{
 "cells": [
  {
   "metadata": {},
   "cell_type": "markdown",
   "source": [
    "# Loops and Logic\n",
    "\n",
    "- practical project: fibbonaci sequence\n",
    "- for loops,\n",
    "- while loops,\n",
    "- if statements,"
   ],
   "id": "9c7ff0bbc2c8e91d"
  },
  {
   "metadata": {},
   "cell_type": "markdown",
   "source": [
    "Today we'll be learning about loops and logical functions in Python. These are very handy when you want to iterate through data and perform actions based on a condition.\n",
    "\n",
    "## Conditional Operators in Python\n",
    "The basics of conditional operators are `if`, `elif`, and `else`. These form the backbone of logic in Python. It's like writing a sentence, \"If Joe likes apples, give him an apple, if he likes something else like oranges, give him an orange. if all else fails, give him a banana.\"\n",
    "\n",
    "`if` tells the computer to execute the following code block _if_ a condition is true.<br>\n",
    "`elif` tells the computer to execute the following code block _if_ nothing _el_se above was true. (optional, but requires an if)<br>\n",
    "`else` tells the computer is the fallback scenario. Do this if nothing _else_ works. (optional, but requires an if)<br>\n",
    "\n",
    "See the codeblock below for an example of how they work."
   ],
   "id": "11375f531b27fa2c"
  },
  {
   "metadata": {},
   "cell_type": "code",
   "outputs": [],
   "execution_count": null,
   "source": [
    "from operator import truediv\n",
    "\n",
    "condition1 = False\n",
    "condition2 = True\n",
    "if condition1:\n",
    "    print(\"This happened!\")\n",
    "elif condition2:\n",
    "    print(\"That happened!\")\n",
    "else:\n",
    "    print(\"Neither this nor that happened.\")"
   ],
   "id": "6565cc20d1054f53"
  },
  {
   "metadata": {},
   "cell_type": "markdown",
   "source": [
    "Try changing condition1 and condition2 above to trigger all the cases!\n",
    "\n",
    "### Logical operators\n",
    "\n",
    "Another crucial part to if statements is logical operators. These allow you to better describe a situation in where you want some code to execute. In Python, the logical operators are `and`, `or`, and `not`. These are used in cases where you want an event to trigger if a combination of conditions are true. This is why these operators are sometimes called conditionals.\n",
    "\n",
    "In the code block below, there's an example of these conditionals being put to use. What do you think will be printed out?"
   ],
   "id": "ed4891e9af7206ab"
  },
  {
   "metadata": {},
   "cell_type": "code",
   "outputs": [],
   "execution_count": null,
   "source": [
    "sunny = True\n",
    "hot = False\n",
    "rainy = False\n",
    "if sunny and hot:\n",
    "    print(\"You should wear a hat and some shorts!\")\n",
    "elif sunny or hot:\n",
    "    print(\"It must be the summer.\")\n",
    "if not sunny and not hot:\n",
    "    print(\"Seems like it's going to be refreshing outside.\")\n",
    "if sunny:\n",
    "    print(\"Make sure to wear sunscreen, you don't want permanent skin damage.\")"
   ],
   "id": "8c69162d6dc8c0c0"
  },
  {
   "metadata": {},
   "cell_type": "markdown",
   "source": [
    "Another type of logical operator is the comparison operator. These are used to compare two values and return a boolean value (`True` or `False`). The most common comparison operators in Python are:\n",
    "- `==`: Equal to\n",
    "- `!=`: Not equal to\n",
    "- `<`: Less than\n",
    "- `<=`: Less than or equal to\n",
    "- `>`: Greater than\n",
    "- `>=`: Greater than or equal to\n",
    "These operators are often used in `if` statements to check if a condition is met. For example, you can use the `==` operator to check if a variable is equal to a certain value:"
   ],
   "id": "4cc4e06c124ed4a7"
  },
  {
   "metadata": {},
   "cell_type": "code",
   "outputs": [],
   "execution_count": null,
   "source": [
    "x = 8 # try changing this value to see how the output changes\n",
    "print(\"The value of x is:\", x)\n",
    "if x < 5:\n",
    "    print(\"x is less than 5\")\n",
    "elif x == 5:\n",
    "    print(\"x is equal to 5\")\n",
    "else:\n",
    "    print(\"x is greater than and not equal to 5\")"
   ],
   "id": "f80358ab981e0251"
  },
  {
   "metadata": {},
   "cell_type": "markdown",
   "source": "Warning! A common mistake that people (including me haha) make is using a single `=` instead of `==` when checking for equality. The single `=` is used for assignment, while `==` is used for comparison. If you use a single `=`, you will get an error because Python will try to assign the value to the variable instead of comparing it.",
   "id": "62ac9d8781a830bd"
  },
  {
   "metadata": {
    "collapsed": true
   },
   "cell_type": "code",
   "outputs": [],
   "execution_count": null,
   "source": [
    "x = 6.7\n",
    "if x = 6.7:\n",
    "    print(\"This will cause an error because of the single equals sign.\")"
   ],
   "id": "initial_id"
  },
  {
   "metadata": {},
   "cell_type": "markdown",
   "source": [
    "## Loops\n",
    "\n",
    "Loops are a way of telling your computer to repeat a block of code multiple times. They are very useful when you want to perform the same action on a collection of items or when you want to repeat an action until a certain condition is met. There are two main types of loops in Python: `while` loops and `for` loops.\n",
    "\n",
    "### `while` Loops\n",
    "\n",
    "While loops are the most basic type of loop. They will continue to execute a block of code as long as a specified condition is `True`. Here's an example that prints the numbers 0 through 4:"
   ],
   "id": "de9d5b8f33d084c9"
  },
  {
   "metadata": {
    "ExecuteTime": {
     "end_time": "2025-08-18T15:39:16.164894Z",
     "start_time": "2025-08-18T15:39:16.160484Z"
    }
   },
   "cell_type": "code",
   "source": [
    "x = 0\n",
    "while x < 5:\n",
    "    print(x)\n",
    "    x += 1  # This is shorthand for x = x + 1"
   ],
   "id": "5c401d92dcf93c68",
   "outputs": [
    {
     "name": "stdout",
     "output_type": "stream",
     "text": [
      "0\n",
      "1\n",
      "2\n",
      "3\n",
      "4\n"
     ]
    }
   ],
   "execution_count": 1
  },
  {
   "metadata": {},
   "cell_type": "markdown",
   "source": "Now, lets try making a while loop that prints out the first 10 numbers of the Fibonacci sequence. The Fibonacci sequence is a series of numbers where each number is the sum of the two preceding ones, usually starting with 0 and 1. The sequence goes like this: 0, 1, 1, 2, 3, 5, 8, 13, 21, and so on.",
   "id": "a1627a9e9d4092c6"
  },
  {
   "metadata": {},
   "cell_type": "code",
   "outputs": [],
   "execution_count": null,
   "source": [
    "# Your code here!\n",
    "while False:  # Change this condition to make the loop run\n",
    "    pass  # Replace this with your code to print the Fibonacci sequence"
   ],
   "id": "c5f1e3c39456b0b5"
  },
  {
   "metadata": {},
   "cell_type": "markdown",
   "source": [
    "### `for` Loops\n",
    "\n",
    "For loops are another type of loop that allows you to iterate over a sequence (like a list or a string) or a range of numbers. They are often used when you know the number of iterations in advance. Here's an example that prints each element in a list:"
   ],
   "id": "5149b333ba4c26d1"
  },
  {
   "metadata": {},
   "cell_type": "code",
   "outputs": [],
   "execution_count": null,
   "source": [
    "shopping_list = [\"apples\", \"bananas\", \"oranges\", \"milk\"]\n",
    "for item in shopping_list:\n",
    "    print(item)"
   ],
   "id": "455ceab1a84d22d8"
  },
  {
   "metadata": {},
   "cell_type": "markdown",
   "source": [
    "If we want to perform a specific action a certain number of times, we can use the `range()` function. This function generates a sequence of numbers, which we can then iterate over with a for loop.\n",
    "`range(start, stop, step)` generates numbers starting from `start` up to (but not including) `stop`, incrementing by `step`. If `start` is omitted, it defaults to 0, and if `step` is omitted, it defaults to 1.\n",
    "Here's an example that prints the even numbers from 0 to 10:"
   ],
   "id": "b09a1b601c8943c5"
  },
  {
   "metadata": {
    "ExecuteTime": {
     "end_time": "2025-08-18T16:01:27.745908Z",
     "start_time": "2025-08-18T16:01:27.728998Z"
    }
   },
   "cell_type": "code",
   "source": [
    "for i in range(0, 11, 2):  # Start at 0, go up to 10, step by 2\n",
    "    print(i)\n",
    "for i in range(11): # range defaults to starting at 0\n",
    "    if i % 2 == 0:  # Check if the number is even\n",
    "        print(i)\n"
   ],
   "id": "d4386055b762f3d1",
   "outputs": [
    {
     "name": "stdout",
     "output_type": "stream",
     "text": [
      "0\n",
      "2\n",
      "4\n",
      "6\n",
      "8\n",
      "10\n",
      "0\n",
      "2\n",
      "4\n",
      "6\n",
      "8\n",
      "10\n",
      "4.0\n"
     ]
    }
   ],
   "execution_count": 4
  },
  {
   "metadata": {},
   "cell_type": "markdown",
   "source": [
    "## Final Exercise: Prime Number Finder\n",
    "\n",
    "You've been equipped with all the tools you need to tackle this final exercise. Your task is to write a program that finds all prime numbers between 1 and 100. A prime number is a natural number greater than 1 that cannot be formed by multiplying two smaller integers. In other words, a prime number is only divisible by 1 and itself. If you need a hint, scroll down below the code block.\n",
    "\n",
    "Try looping through the numbers from 2 to 100 and checking if they are prime (hint: loop through its possible factors!). If you need a reminder on how to do this, you can scroll back up for a quick refresher."
   ],
   "id": "d540d83638e5e513"
  },
  {
   "metadata": {
    "ExecuteTime": {
     "end_time": "2025-08-18T16:05:24.524127Z",
     "start_time": "2025-08-18T16:05:24.514259Z"
    }
   },
   "cell_type": "code",
   "source": [
    "import math # import the math module to use the sqrt function\n",
    "print(math.sqrt(25)) # this function might be helpful for your solution ^-^\n",
    "# Your code here!\n",
    "#\n",
    "#\n",
    "#\n",
    "#\n",
    "#\n",
    "#\n",
    "#\n",
    "#\n",
    "#\n",
    "#\n",
    "#\n",
    "#\n",
    "#\n",
    "#\n",
    "#\n",
    "#\n",
    "#\n",
    "# hi there :D"
   ],
   "id": "c1237dea9c781ba8",
   "outputs": [
    {
     "name": "stdout",
     "output_type": "stream",
     "text": [
      "5.0\n"
     ]
    }
   ],
   "execution_count": 5
  },
  {
   "metadata": {},
   "cell_type": "markdown",
   "source": [
    "Here's a quick reminder of the steps you might take:\n",
    "1. Use a `for` loop to iterate through numbers from 2 to 100.\n",
    "2. For each number, use a nested `for` loop to check if it is divisible by any number from 2 to the square root of that number. (use math.sqrt(n) to find the square root of a number.)\n",
    "3. If it is not divisible by any of those numbers, it is a prime number.\n",
    "4. Print the prime numbers you find."
   ],
   "id": "514c9ac7b40e12d1"
  }
 ],
 "metadata": {
  "kernelspec": {
   "display_name": "Python 3",
   "language": "python",
   "name": "python3"
  },
  "language_info": {
   "codemirror_mode": {
    "name": "ipython",
    "version": 2
   },
   "file_extension": ".py",
   "mimetype": "text/x-python",
   "name": "python",
   "nbconvert_exporter": "python",
   "pygments_lexer": "ipython2",
   "version": "2.7.6"
  }
 },
 "nbformat": 4,
 "nbformat_minor": 5
}
