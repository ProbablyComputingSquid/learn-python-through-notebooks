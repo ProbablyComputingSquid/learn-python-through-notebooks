{
 "cells": [
  {
   "metadata": {},
   "cell_type": "markdown",
   "source": [
    "# functions and classes\n",
    "\n",
    "soooo i havent exactly been being a great writer and explaining alll the code that ive been writing. you've been seeing a lot of code snippets that are using functions and i havent exactly explained what those are yet! i've gone into them in some smaller detail in one of the lessons, but today we're going to do a deeper dive (or maybe you could say delve ahaha) into functions and classes!\n",
    "\n",
    "So, functions are a block of code that can be reused. It's good for modularization and compartmentalization of your code, especially if you have a lot of code that does the same thing. You can write it once, and then call it multiple times. This is useful for things like calculations, data processing, or any repetitive task.\n",
    "\n",
    "each function can take in parameters, which are inputs that the function uses to perform its task. It can also return a value, which is the output of the function. This allows you to pass data into the function and get results back. you declare a function using the `def` keyword, followed by the function name and parentheses containing any parameters. The body of the function is indented below the definition. when the indentation goes back to its previous level, that means the definition of the function is over.\n",
    "take a look at a few examples below :"
   ],
   "id": "718e27f5bfe0fec6"
  },
  {
   "metadata": {
    "collapsed": true
   },
   "cell_type": "code",
   "outputs": [],
   "execution_count": null,
   "source": [
    "# the most basic function, some code under a header\n",
    "def print_hello():\n",
    "    print(\"Hello, world!\")\n",
    "\n",
    "# take a paramater (input) into the function\n",
    "def greet(name):\n",
    "    print(f\"Why hello there {name}!\")\n",
    "\n",
    "# a function that takes in two parameters and returns a value\n",
    "def exponentiate(a,b):\n",
    "    return a ** b\n",
    "\n",
    "print_hello()\n",
    "greet() # put your name here!!\n",
    "exponentiate(9,3)"
   ],
   "id": "initial_id"
  },
  {
   "metadata": {},
   "cell_type": "markdown",
   "source": [
    "### practice exercise!! - greatest commmon divisor\n",
    "write a function that takes in two numbers and returns their greatest common divisor (gcd). the gcd is the largest number that divides both numbers without leaving a remainder. for example, the gcd of 12 and 15 is 3, because 3 is the largest number that will cleanly factor into 12 and 15.\n"
   ],
   "id": "863527bde78d346d"
  },
  {
   "metadata": {
    "ExecuteTime": {
     "end_time": "2025-08-21T16:36:49.522342Z",
     "start_time": "2025-08-21T16:36:49.517259Z"
    }
   },
   "cell_type": "code",
   "source": [
    "## write your code for the gcd function here\n",
    "\n",
    "# your code here!!\n",
    "\n",
    "assert gcd(12, 15) == 3\n",
    "assert gcd(54, 24) == 6\n",
    "assert gcd(101, 10) == 1\n",
    "assert gcd(100, 25) == 25\n",
    "print(\"all unit tests are passing\")"
   ],
   "id": "ff295ae2bf57e0a3",
   "outputs": [
    {
     "name": "stdout",
     "output_type": "stream",
     "text": [
      "3\n",
      "6\n"
     ]
    }
   ],
   "execution_count": 2
  },
  {
   "metadata": {},
   "cell_type": "markdown",
   "source": [
    "## recursive functions\n",
    "\n",
    "a recursive function is a function that calls itself. this is useful for problems that can be broken down into smaller subproblems, like calculating factorials or traversing trees. the key to a recursive function is to have a base case that stops the recursion, otherwise it will run indefinitely and cause a stack overflow error.\n",
    "take a look at the example below, which calculates a factorial, which is the product of each number smaller than itself to 1. for example, 5! = 5 * 4 * 3 * 2 * 1 = 120. the base case is when n is 0 or 1, in which case the factorial is 1. otherwise, the function calls itself with n - 1 until it reaches the base case."
   ],
   "id": "2f14750a7071b0c"
  },
  {
   "metadata": {},
   "cell_type": "code",
   "outputs": [],
   "execution_count": null,
   "source": [
    "def factorial (n):\n",
    "    if n == 0 or n == 1:  # base case\n",
    "        return 1\n",
    "    else:\n",
    "        return n * factorial(n - 1)  # recursive case\n",
    "\n",
    "print(factorial(6))"
   ],
   "id": "91a29a6bd518edd3"
  }
 ],
 "metadata": {
  "kernelspec": {
   "display_name": "Python 3",
   "language": "python",
   "name": "python3"
  },
  "language_info": {
   "codemirror_mode": {
    "name": "ipython",
    "version": 2
   },
   "file_extension": ".py",
   "mimetype": "text/x-python",
   "name": "python",
   "nbconvert_exporter": "python",
   "pygments_lexer": "ipython2",
   "version": "2.7.6"
  }
 },
 "nbformat": 4,
 "nbformat_minor": 5
}
