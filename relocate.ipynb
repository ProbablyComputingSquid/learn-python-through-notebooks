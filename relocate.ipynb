{
 "cells": [
  {
   "metadata": {},
   "cell_type": "markdown",
   "source": "# these code blocks need a new home!\n",
   "id": "9b6610a13d2fe21"
  },
  {
   "metadata": {},
   "cell_type": "markdown",
   "source": [
    "### Variable Scoping\n",
    "\n",
    "Variables have a thing called \"scope\" which determines where the variable can be accessed in your code. In Python, there are two main types of scope: global and local.\n",
    "- **Global variables** are defined outside any function and can be accessed from anywhere in your code. They are created by simply assigning a value to a variable name at the top level of your script. You can also use the `global` keyword inside a function to modify a global variable.\n",
    "- **Local variables** are defined inside a function and can only be accessed within that function. They are created by assigning a value to a variable name inside a function.\n",
    "\n",
    "Sometimes, this can lead to confusion, especially if you have a global variable with the same name as a local variable. In that case, the local variable will take precedence over the global variable within the function. This is called *shadowing* and should be avoided at all costs because it leads to very painful debugging.\n",
    "\n",
    "The reason why scoping exists is to prevent naming conflicts and to ensure that variables are only accessible where they are needed and make sense to be used.\n",
    "\n",
    "run the following code blocks to see examples of variable scoping"
   ],
   "id": "7f6afb96bb27d064"
  },
  {
   "metadata": {},
   "cell_type": "code",
   "outputs": [],
   "execution_count": null,
   "source": [
    "x = 10  # Global variable, because it's declared at the highest level (least indentation) of the script\n",
    "def function():\n",
    "    x = 5  # Local variable\n",
    "    print(\"Inside the function, x =\", x)\n",
    "function()\n",
    "print(\"Outside the function, x =\", x)  # This will print the global variable x"
   ],
   "id": "9cd8c554177c1a02"
  },
  {
   "metadata": {},
   "cell_type": "markdown",
   "source": "However, if we wanted to modify the global variable `x` inside a function, we would need to use the `global` keyword. This tells Python that we want to use the global variable instead of creating a new local variable with the same name.\n",
   "id": "6dd06b3873bb416e"
  },
  {
   "metadata": {},
   "cell_type": "code",
   "outputs": [],
   "execution_count": null,
   "source": [
    "n = 3.14\n",
    "def modify_global():\n",
    "    global n  # This tells Python that we want to use the global variable n\n",
    "    n = 2.71  # This modifies the global variable n\n",
    "    print(\"Inside the function, n =\", n)\n",
    "modify_global()\n",
    "print(\"Outside the function, n =\", n)"
   ],
   "id": "e94a63096a9406f0"
  },
  {
   "metadata": {},
   "cell_type": "markdown",
   "source": [
    "### Types in Python\n",
    "Here's a list of the different types a variable can be in python. Each type has its own characteristics and uses, so it's important to understand them when writing Python code.\n",
    "- Text Type: `str` (string, a sequence of characters)\n",
    "- Numeric Types: `int`, `float`, `complex` (whole numbers, decimal numbers, and complex numbers)\n",
    "- Sequence Types: `list`, `tuple`, `range` (ordered collections of items)\n",
    "  - `list`: mutable (can be changed), ordered collection of items\n",
    "  - `tuple`: immutable (cannot be changed), ordered collection of items\n",
    "  - `range`: represents a sequence of numbers, often used in loops\n",
    "- Mapping Type: `dict` (key-value pairs)\n",
    "- Set Types: `set`, `frozenset` (unordered collections of unique items)\n",
    "  - `set`: mutable (can be changed), unordered collection of unique items\n",
    "  - `frozenset`: immutable (cannot be changed), unordered collection of unique items\n",
    "- Boolean Type: `bool` (`True`/`False`)\n",
    "- Binary Types: `bytes`, `bytearray`, `memoryview` (we will not be covering these)\n",
    "- None Type: `NoneType` (`None`, used to represent the absence of a value)\n",
    "\n",
    "If you ever want to check the type of a variable, you can use the `type()` function. For example:"
   ],
   "id": "b83cb144a99aa81f"
  },
  {
   "metadata": {},
   "cell_type": "code",
   "outputs": [],
   "execution_count": null,
   "source": [
    "print(type(5))  # This will print <class 'int'>\n",
    "print(type(\"3.14\"))  # This will print <class 'str'>"
   ],
   "id": "5588edf54b01ecc6"
  },
  {
   "metadata": {},
   "cell_type": "markdown",
   "source": [
    "If you want to change the type of a variable, you can use type conversion functions like `int()`, `float()`, and `str()`. However, not all conversions will work. You cannot turn the sentence `\"Reggie the Regent\"` into a number (although it would probably be 1, because West is the Best).\n",
    "For example of type conversion, you can convert a string to an integer like this:"
   ],
   "id": "993e1c2d56c99e8b"
  },
  {
   "metadata": {},
   "cell_type": "code",
   "outputs": [],
   "execution_count": null,
   "source": [
    "print(int(\"5\"))  # This will print 5 as an integer\n",
    "print(type(int(\"5\"))) # This will print <class 'type'>, which is the type of the int class itself"
   ],
   "id": "b35262d79d9635a1"
  }
 ],
 "metadata": {
  "kernelspec": {
   "display_name": "Python 3",
   "language": "python",
   "name": "python3"
  },
  "language_info": {
   "codemirror_mode": {
    "name": "ipython",
    "version": 2
   },
   "file_extension": ".py",
   "mimetype": "text/x-python",
   "name": "python",
   "nbconvert_exporter": "python",
   "pygments_lexer": "ipython2",
   "version": "2.7.6"
  }
 },
 "nbformat": 4,
 "nbformat_minor": 5
}
