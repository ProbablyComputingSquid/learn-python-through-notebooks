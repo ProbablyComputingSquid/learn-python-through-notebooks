{
 "cells": [
  {
   "metadata": {},
   "cell_type": "markdown",
   "source": [
    "# Packages and File Handling\n",
    "\n",
    "> _Why bother reinventing the wheel when someone else has already done the work for you? ~ unknown, c. 2019, in conversation_\n",
    "\n",
    "\n",
    "\n",
    "\n",
    "A large part of programming is using code that other people have written. However, that does not mean that you should blatantly copy and paste code you find on the internet into your own projects. This is bad practice for a number of reasons, not least of which is that you may be violating copyright or license agreements. You may also run into code written by malicious actors, and it is always bad practice to add code to your project that you do not understand. Instead of copying code, you should use packages and libraries that are designed to be used by others.\n",
    "\n",
    "Packages and libraries are collections of code that are designed to be used by others. These contain functions, classes, and modules that you can use in your own projects. They are very useful in saving time and effort, as you do not have to write code from scratch for things like data manipulation, web development, or machine learning. Instead, you can use packages that have already been written and tested by others.\n",
    "\n",
    "Have you ever woken up in the morning and said to yourself, \"Gee, I really want to write a new interface for GUI in Python today?\" No, you probably haven't unless you are crazy (if you have, mad respect tho). Instead, you probably want to use a package that has already been written for you, like Tkinter or PyQt. These packages provide a set of tools and functions that make it easy to create GUI applications in Python, which we'll be covering later (hopefully).\n",
    "\n",
    "\n",
    "## pip and the python package index (PyPI)\n",
    "\n",
    "pip is the package installer for python. You can use pip to install packages from the [Python Package Index](https://pypi.org) and other indexes. The Python Package Index is a repository of software for the Python programming language. It is the default package index for pip, and it contains thousands of packages that you can use in your own projects. As of 1:45 PM CST, August 24th, 2025, there are 670,699 packages avaliable on PyPI. (one of those is mine :]).\n",
    "\n",
    "### importing packages\n",
    "\n",
    "when you want to use a package in your project, you first need to install it using pip. You can do this by running the following command in your terminal or command prompt:\n",
    "\n",
    "```shell\n",
    "pip install package_name\n",
    "```\n",
    "if you are using a Jupyter notebook, you can run the same command by prefixing it with an exclamation mark:\n"
   ],
   "id": "78388416954637ca"
  },
  {
   "cell_type": "code",
   "id": "initial_id",
   "metadata": {
    "collapsed": true,
    "ExecuteTime": {
     "end_time": "2025-08-24T18:57:01.809364Z",
     "start_time": "2025-08-24T18:57:01.218847Z"
    }
   },
   "source": "!pip install random\n",
   "outputs": [
    {
     "name": "stdout",
     "output_type": "stream",
     "text": [
      "Found existing installation: package_name 0.1\r\n",
      "Uninstalling package_name-0.1:\r\n",
      "  Successfully uninstalled package_name-0.1\r\n"
     ]
    }
   ],
   "execution_count": 7
  },
  {
   "metadata": {},
   "cell_type": "markdown",
   "source": "We've just installed one of the most commonly used packages in Python, `random`. This package provides functions for generating random numbers and making random selections. You can now use the functions in the `random` package in your own projects by importing it at the top of your Python file or Jupyter notebook:",
   "id": "a12bc91b85fbf552"
  },
  {
   "metadata": {
    "ExecuteTime": {
     "end_time": "2025-08-24T18:58:35.268923Z",
     "start_time": "2025-08-24T18:58:35.262621Z"
    }
   },
   "cell_type": "code",
   "source": [
    "import random\n",
    "\n",
    "print(random.random()) # this will print a random float between 0 and 1\n",
    "print(random.randint(1, 10)) # this will print a random integer between 1 and 10 (inclusive)"
   ],
   "id": "529368f0947c3d67",
   "outputs": [
    {
     "name": "stdout",
     "output_type": "stream",
     "text": [
      "0.8635314582930362\n",
      "3\n"
     ]
    }
   ],
   "execution_count": 18
  },
  {
   "metadata": {},
   "cell_type": "markdown",
   "source": [
    "## file handling\n",
    "\n",
    "file handling is an important part of programming, as it allows you to read and write data to files on your computer. this is crucial for maintaining data between program executions, as well as for storing and retrieving data in a structured way. You can open files in using the built-in `open()` function."
   ],
   "id": "60bb2becfbbcce4a"
  },
  {
   "metadata": {
    "ExecuteTime": {
     "end_time": "2025-08-24T19:28:00.691470Z",
     "start_time": "2025-08-24T19:28:00.686432Z"
    }
   },
   "cell_type": "code",
   "source": [
    "with open(\"example.txt\", \"w\") as f:\n",
    "    f.write(\"Hello, world!\") # try changing this and running again"
   ],
   "id": "5cc57bf114ebb89d",
   "outputs": [],
   "execution_count": 19
  },
  {
   "metadata": {},
   "cell_type": "markdown",
   "source": [
    "Let's break it down. Get down on the floor and start dancing. (optional, but extra credit if you do)\n",
    "\n",
    "The `open()` function takes two arguments: the name of the file you want to open, and the mode in which you want to open it. In this case, we're opening a file called `example.txt` in write mode (`\"w\"`). If the file doesn't exist, it will be created. If it does exist, it will be overwritten. This is important to note, as you may accidentally overwrite important data if you're not careful.\n",
    "\n",
    "The `with` statement is used to create a context in which the file is open. This is important because it ensures that the file is properly closed when you're done with it, even if an error occurs. The `as f` part of the statement assigns the file object to the variable `f`, which you can then use to read from or write to the file.\n",
    "\n",
    "`.write()` is a method which allows you to write a string to a file that has been opened in a write mode. In this case, we're writing the string \"Hello, world!\" to the file.\n",
    "\n",
    "### other file modes\n",
    "\n",
    "There are several other modes you can use when opening a file:\n",
    "- `\"r\"`: read mode (default). This mode is used to read data from a file. If the file doesn't exist, an error will be raised. Good for reading in data.\n",
    "- `\"a\"`: append mode. This mode is used to add data to the end of a file. If the file doesn't exist, it will be created. Good for adding data to a file without overwriting existing data, like a log file or user data.\n",
    "-"
   ],
   "id": "670fa24c371c3fbb"
  }
 ],
 "metadata": {
  "kernelspec": {
   "display_name": "Python 3",
   "language": "python",
   "name": "python3"
  },
  "language_info": {
   "codemirror_mode": {
    "name": "ipython",
    "version": 2
   },
   "file_extension": ".py",
   "mimetype": "text/x-python",
   "name": "python",
   "nbconvert_exporter": "python",
   "pygments_lexer": "ipython2",
   "version": "2.7.6"
  }
 },
 "nbformat": 4,
 "nbformat_minor": 5
}
