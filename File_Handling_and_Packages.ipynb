{
 "cells": [
  {
   "metadata": {},
   "cell_type": "markdown",
   "source": [
    "# Packages, File Handling, and User Input\n",
    "\n",
    "> _Why bother reinventing the wheel when someone else has already done the work for you? ~ unknown, c. 2019, in conversation_\n",
    "\n",
    "\n",
    "\n",
    "\n",
    "A large part of programming is using code that other people have written. However, that does not mean that you should blatantly copy and paste code you find on the internet into your own projects. This is bad practice for a number of reasons, not least of which is that you may be violating copyright or license agreements. You may also run into code written by malicious actors, and it is always bad practice to add code to your project that you do not understand. Instead of copying code, you should use packages and libraries that are designed to be used by others.\n",
    "\n",
    "Packages and libraries are collections of code that are designed to be used by others. These contain functions, classes, and modules that you can use in your own projects. They are very useful in saving time and effort, as you do not have to write code from scratch for things like data manipulation, web development, or machine learning. Instead, you can use packages that have already been written and tested by others.\n",
    "\n",
    "Have you ever woken up in the morning and said to yourself, \"Gee, I really want to write a new interface for GUI in Python today?\" No, you probably haven't unless you are crazy (if you have, mad respect tho). Instead, you probably want to use a package that has already been written for you, like Tkinter or PyQt. These packages provide a set of tools and functions that make it easy to create GUI applications in Python, which we'll be covering later (hopefully).\n",
    "\n",
    "\n",
    "## pip and the python package index (PyPI)\n",
    "\n",
    "pip is the package installer for python. You can use pip to install packages from the [Python Package Index](https://pypi.org) and other indexes. The Python Package Index is a repository of software for the Python programming language. It is the default package index for pip, and it contains thousands of packages that you can use in your own projects. As of 1:45 PM CST, August 24th, 2025, there are 670,699 packages avaliable on PyPI. (one of those is mine :]).\n",
    "\n",
    "### importing packages\n",
    "\n",
    "when you want to use a package in your project, you first need to install it using pip. You can do this by running the following command in your terminal or command prompt:\n",
    "\n",
    "```shell\n",
    "pip install package_name\n",
    "```\n",
    "if you are using a Jupyter notebook, you can run the same command by prefixing it with an exclamation mark:\n"
   ],
   "id": "78388416954637ca"
  },
  {
   "cell_type": "code",
   "id": "initial_id",
   "metadata": {
    "collapsed": true,
    "ExecuteTime": {
     "end_time": "2025-08-24T18:57:01.809364Z",
     "start_time": "2025-08-24T18:57:01.218847Z"
    }
   },
   "source": "!pip install random\n",
   "outputs": [
    {
     "name": "stdout",
     "output_type": "stream",
     "text": [
      "Found existing installation: package_name 0.1\r\n",
      "Uninstalling package_name-0.1:\r\n",
      "  Successfully uninstalled package_name-0.1\r\n"
     ]
    }
   ],
   "execution_count": 7
  },
  {
   "metadata": {},
   "cell_type": "markdown",
   "source": "We've just installed one of the most commonly used packages in Python, `random`. This package provides functions for generating random numbers and making random selections. You can now use the functions in the `random` package in your own projects by importing it at the top of your Python file or Jupyter notebook:",
   "id": "a12bc91b85fbf552"
  },
  {
   "metadata": {
    "ExecuteTime": {
     "end_time": "2025-08-24T18:58:35.268923Z",
     "start_time": "2025-08-24T18:58:35.262621Z"
    }
   },
   "cell_type": "code",
   "source": [
    "import random\n",
    "\n",
    "print(random.random()) # this will print a random float between 0 and 1\n",
    "print(random.randint(1, 10)) # this will print a random integer between 1 and 10 (inclusive)"
   ],
   "id": "529368f0947c3d67",
   "outputs": [
    {
     "name": "stdout",
     "output_type": "stream",
     "text": [
      "0.8635314582930362\n",
      "3\n"
     ]
    }
   ],
   "execution_count": 18
  },
  {
   "metadata": {},
   "cell_type": "markdown",
   "source": [
    "## user input\n",
    "\n",
    "OKAY so like a huge part of designing programs that people uh actually use is user input. im lowk not sure why i didnt put this earlier but you kinda gotta know some other basics before you can really use it well. Also, there just wasn't room.\n",
    "\n",
    "User input in desktop applications will be covered in a later lesson, however we'll be covering terminal user input now.\n",
    "\n",
    "User input in python is handled with the `input()` function. What the user submits will be stored in a variable, if you choose to handle the output."
   ],
   "id": "1386a34ef7e2caa5"
  },
  {
   "metadata": {
    "ExecuteTime": {
     "end_time": "2025-08-26T20:46:16.343963Z",
     "start_time": "2025-08-26T20:46:08.795884Z"
    }
   },
   "cell_type": "code",
   "source": [
    "print(\"What's your favorite ice cream flavor?\")\n",
    "flavor = input()\n",
    "print(flavor + \"? That's a good one\") # blatant lie"
   ],
   "id": "b4012e73454f47df",
   "outputs": [
    {
     "name": "stdout",
     "output_type": "stream",
     "text": [
      "What's your favorite ice cream flavor?\n",
      "chocolate? That's a good one\n"
     ]
    }
   ],
   "execution_count": 2
  },
  {
   "metadata": {},
   "cell_type": "markdown",
   "source": [
    "However, it is possible to prompt the user with the input function in order to give them a question instead of just a blank line. The input function accepts parameters so you can directly prompt the user.\n",
    "You can also just do a blank `input()` and disregard the output as a \"Press enter to continue\" thing."
   ],
   "id": "3d5fd8e4d073a927"
  },
  {
   "metadata": {
    "ExecuteTime": {
     "end_time": "2025-08-26T20:58:26.554073Z",
     "start_time": "2025-08-26T20:58:21.866381Z"
    }
   },
   "cell_type": "code",
   "source": [
    "pet = input(\"Do you have any pets?\")\n",
    "print(\"You have a \" + pet + \"? Omg so do i!! i have 500 \" + pet + \"s!\") # me when i lie"
   ],
   "id": "c0e9188ae8a2c0c3",
   "outputs": [
    {
     "name": "stdout",
     "output_type": "stream",
     "text": [
      "You have a no? Omg so do i!! i have 500 nos!\n"
     ]
    }
   ],
   "execution_count": 3
  },
  {
   "metadata": {},
   "cell_type": "markdown",
   "source": [
    "if you think about it, file handling is just like user input from the computer (right?) kinda... not really...\n",
    "But you could even chain the two together to have the program read from a file of the user's choice, essentially uploading the file to your python program. with out further adieu, let us transition (heh) to file handling!"
   ],
   "id": "105879e1945829e3"
  },
  {
   "metadata": {},
   "cell_type": "markdown",
   "source": [
    "## file handling\n",
    "\n",
    "file handling is an important part of programming, as it allows you to read and write data to files on your computer. this is crucial for maintaining data between program executions, as well as for storing and retrieving data in a structured way. You can open files in using the built-in `open()` function."
   ],
   "id": "60bb2becfbbcce4a"
  },
  {
   "metadata": {
    "ExecuteTime": {
     "end_time": "2025-08-24T19:28:00.691470Z",
     "start_time": "2025-08-24T19:28:00.686432Z"
    }
   },
   "cell_type": "code",
   "source": [
    "with open(\"example.txt\", \"w\") as f:\n",
    "    f.write(\"Hello, world!\") # try changing this and running again"
   ],
   "id": "5cc57bf114ebb89d",
   "outputs": [],
   "execution_count": 19
  },
  {
   "metadata": {},
   "cell_type": "markdown",
   "source": [
    "Let's break it down. Get down on the floor and start dancing. (optional, but extra credit if you do)\n",
    "\n",
    "The `open()` function takes two arguments: the name of the file you want to open, and the mode in which you want to open it. In this case, we're opening a file called `example.txt` in write mode (`\"w\"`). If the file doesn't exist, it will be created. If it does exist, it will be overwritten. This is important to note, as you may accidentally overwrite important data if you're not careful.\n",
    "\n",
    "The `with` statement is used to create a context in which the file is open. This is important because it ensures that the file is properly closed when you're done with it, even if an error occurs. The `as f` part of the statement assigns the file object to the variable `f`, which you can then use to read from or write to the file.\n",
    "\n",
    "`.write()` is a method which allows you to write a string to a file that has been opened in a write mode. In this case, we're writing the string \"Hello, world!\" to the file.\n",
    "\n",
    "### other file modes\n",
    "\n",
    "There are several other modes you can use when opening a file:\n",
    "- `\"r\"`: read mode (default). This mode is used to read data from a file. If the file doesn't exist, an error will be raised. Good for reading in data.\n",
    "- `\"a\"`: append mode. This mode is used to add data to the end of a file. If the file doesn't exist, it will be created. Good for adding data to a file without overwriting existing data, like a log file or user data."
   ],
   "id": "670fa24c371c3fbb"
  },
  {
   "metadata": {},
   "cell_type": "code",
   "outputs": [],
   "execution_count": null,
   "source": [
    "with open(\"example.txt\", \"a\") as f:\n",
    "    f.write(\"I'm appending this!\")"
   ],
   "id": "3cb3750872150b82"
  },
  {
   "metadata": {},
   "cell_type": "code",
   "outputs": [],
   "execution_count": null,
   "source": [
    "with open(\"example.txt\", \"r\") as f:\n",
    "    content = f.read()\n",
    "    print(content)"
   ],
   "id": "30fec8d8afca341f"
  },
  {
   "metadata": {},
   "cell_type": "markdown",
   "source": [
    "### practice exercise: reading a user selected file\n",
    "\n",
    "write code that will prompt the user for a filename, and open that file. then, prompt the user for some new content, and write that to a different user-selected file"
   ],
   "id": "ed4b14a7b0a35350"
  },
  {
   "metadata": {},
   "cell_type": "code",
   "outputs": [],
   "execution_count": null,
   "source": [
    "# write your code here!\n",
    "# you can use example.txt for practice."
   ],
   "id": "a03d6b6716f8ded8"
  },
  {
   "metadata": {},
   "cell_type": "markdown",
   "source": [
    "### practice challenge: word: le guessing game\n",
    "You have just stumbled upon a GENIUS game idea which has totally not been popularized by john wordle and bought by the new york times i PROMISE.\n",
    "So you've got six tries to guess a five letter word. The word will be randomly chosen from a list of five letter words contained in `words.txt`. If a user guesses a letter correctly, display it as green. If a user guesses a letter that is in the incorrect place, display it as yellow. If it's incorrect, display as gray.\n",
    "\n",
    "A few tips:\n",
    "- install the random package\n",
    "- use `string.split(seperator: string)` to split a string based on a seperator (maybe you could use this when reading this words file?)\n",
    "- treat the user input string as an array, so you can use array methods on it\n"
   ],
   "id": "6eb5ccf5bb79fd95"
  },
  {
   "metadata": {
    "ExecuteTime": {
     "end_time": "2025-09-07T00:37:32.891846Z",
     "start_time": "2025-09-07T00:36:17.366945Z"
    }
   },
   "cell_type": "code",
   "source": [
    "#!pip install random\n",
    "import random\n",
    "import time\n",
    "\n",
    "with open(\"words.txt\", \"r\") as f:\n",
    "    words = f.read()\n",
    "    words = words.split(\"\\n\")\n",
    "    the_word = random.choice(words)\n",
    "    # the_word = \"apple\" # testing word\n",
    "\n",
    "def evaluate_word(word):\n",
    "    status = [0,0,0,0,0] # 0 = incorrect, 1 = wrong place, 2 = correct\n",
    "    word = list(word)\n",
    "    checker = list(the_word)\n",
    "    # check for correctness\n",
    "    for i in range(len(word)): # always 5 but hardcoded constants are bad\n",
    "        if word[i] == checker[i]:\n",
    "            status[i] = 2\n",
    "            checker[i] = \"_\" # placeholder to ensure no double-counting\n",
    "    # check for wrong place\n",
    "    for i in range(len(word)):\n",
    "        if word[i] in checker:\n",
    "            status[i] = 1\n",
    "            checker[checker.index(word[i])] = \"_\"\n",
    "\n",
    "    return status\n",
    "\n",
    "guess_amount = 0\n",
    "guesses_words = []\n",
    "while guess_amount < 6:\n",
    "    guessed_word = input(\"Guess a word!\").strip()\n",
    "    if len(guessed_word) > 5:\n",
    "        print(\"Too many letters!\")\n",
    "        continue\n",
    "    elif len(guessed_word) < 5:\n",
    "        print(\"Not enough letters!\")\n",
    "        continue\n",
    "    elif not guessed_word in words:\n",
    "        print(\"That's not a valid word!\")\n",
    "        continue\n",
    "    guess_amount += 1\n",
    "    status_list = evaluate_word(guessed_word)\n",
    "    i = 0\n",
    "    for code in status_list:\n",
    "        if code == 2: # correct!\n",
    "            print(\"\\033[97;102m\", flush = True, end = \"\")\n",
    "        elif code == 1: # wrong place :/\n",
    "            print(\"\\033[97;103m\", flush = True, end = \"\")\n",
    "        else: # WRONG\n",
    "            print(\"\\033[97;47m\", flush = True, end = \"\")\n",
    "        print(guessed_word[i], end = \"\")\n",
    "        i += 1\n",
    "        time.sleep(0.25)\n",
    "        print(\"\\033[0m\", flush = True, end = \"\") # reset colors!\n",
    "    print()\n",
    "    if guessed_word == the_word:\n",
    "        print(\"That's Correct! It took you\", guess_amount, \" guesses to guess the word \", the_word)\n",
    "        break\n",
    "\n"
   ],
   "id": "e9ba521bbee23927",
   "outputs": [
    {
     "name": "stdout",
     "output_type": "stream",
     "text": [
      "\u001B[97;102ms\u001B[0m\u001B[97;103ml\u001B[0m\u001B[97;47ma\u001B[0m\u001B[97;47mt\u001B[0m\u001B[97;103me\u001B[0m\n",
      "\u001B[97;102ms\u001B[0m\u001B[97;103me\u001B[0m\u001B[97;103ml\u001B[0m\u001B[97;47ml\u001B[0m\u001B[97;47ms\u001B[0m\n"
     ]
    },
    {
     "ename": "KeyboardInterrupt",
     "evalue": "Interrupted by user",
     "output_type": "error",
     "traceback": [
      "\u001B[31m---------------------------------------------------------------------------\u001B[39m",
      "\u001B[31mKeyboardInterrupt\u001B[39m                         Traceback (most recent call last)",
      "\u001B[36mCell\u001B[39m\u001B[36m \u001B[39m\u001B[32mIn[14]\u001B[39m\u001B[32m, line 31\u001B[39m\n\u001B[32m     29\u001B[39m guesses_words = []\n\u001B[32m     30\u001B[39m \u001B[38;5;28;01mwhile\u001B[39;00m guess_amount < \u001B[32m6\u001B[39m:\n\u001B[32m---> \u001B[39m\u001B[32m31\u001B[39m     guessed_word = \u001B[38;5;28;43minput\u001B[39;49m\u001B[43m(\u001B[49m\u001B[33;43m\"\u001B[39;49m\u001B[33;43mGuess a word!\u001B[39;49m\u001B[33;43m\"\u001B[39;49m\u001B[43m)\u001B[49m.strip()\n\u001B[32m     32\u001B[39m     \u001B[38;5;28;01mif\u001B[39;00m \u001B[38;5;28mlen\u001B[39m(guessed_word) > \u001B[32m5\u001B[39m:\n\u001B[32m     33\u001B[39m         \u001B[38;5;28mprint\u001B[39m(\u001B[33m\"\u001B[39m\u001B[33mToo many letters!\u001B[39m\u001B[33m\"\u001B[39m)\n",
      "\u001B[36mFile \u001B[39m\u001B[32m~/PycharmProjects/pythonlessons/.venv/lib/python3.13/site-packages/ipykernel/kernelbase.py:1275\u001B[39m, in \u001B[36mKernel.raw_input\u001B[39m\u001B[34m(self, prompt)\u001B[39m\n\u001B[32m   1273\u001B[39m     msg = \u001B[33m\"\u001B[39m\u001B[33mraw_input was called, but this frontend does not support input requests.\u001B[39m\u001B[33m\"\u001B[39m\n\u001B[32m   1274\u001B[39m     \u001B[38;5;28;01mraise\u001B[39;00m StdinNotImplementedError(msg)\n\u001B[32m-> \u001B[39m\u001B[32m1275\u001B[39m \u001B[38;5;28;01mreturn\u001B[39;00m \u001B[38;5;28;43mself\u001B[39;49m\u001B[43m.\u001B[49m\u001B[43m_input_request\u001B[49m\u001B[43m(\u001B[49m\n\u001B[32m   1276\u001B[39m \u001B[43m    \u001B[49m\u001B[38;5;28;43mstr\u001B[39;49m\u001B[43m(\u001B[49m\u001B[43mprompt\u001B[49m\u001B[43m)\u001B[49m\u001B[43m,\u001B[49m\n\u001B[32m   1277\u001B[39m \u001B[43m    \u001B[49m\u001B[38;5;28;43mself\u001B[39;49m\u001B[43m.\u001B[49m\u001B[43m_parent_ident\u001B[49m\u001B[43m[\u001B[49m\u001B[33;43m\"\u001B[39;49m\u001B[33;43mshell\u001B[39;49m\u001B[33;43m\"\u001B[39;49m\u001B[43m]\u001B[49m\u001B[43m,\u001B[49m\n\u001B[32m   1278\u001B[39m \u001B[43m    \u001B[49m\u001B[38;5;28;43mself\u001B[39;49m\u001B[43m.\u001B[49m\u001B[43mget_parent\u001B[49m\u001B[43m(\u001B[49m\u001B[33;43m\"\u001B[39;49m\u001B[33;43mshell\u001B[39;49m\u001B[33;43m\"\u001B[39;49m\u001B[43m)\u001B[49m\u001B[43m,\u001B[49m\n\u001B[32m   1279\u001B[39m \u001B[43m    \u001B[49m\u001B[43mpassword\u001B[49m\u001B[43m=\u001B[49m\u001B[38;5;28;43;01mFalse\u001B[39;49;00m\u001B[43m,\u001B[49m\n\u001B[32m   1280\u001B[39m \u001B[43m\u001B[49m\u001B[43m)\u001B[49m\n",
      "\u001B[36mFile \u001B[39m\u001B[32m~/PycharmProjects/pythonlessons/.venv/lib/python3.13/site-packages/ipykernel/kernelbase.py:1320\u001B[39m, in \u001B[36mKernel._input_request\u001B[39m\u001B[34m(self, prompt, ident, parent, password)\u001B[39m\n\u001B[32m   1317\u001B[39m \u001B[38;5;28;01mexcept\u001B[39;00m \u001B[38;5;167;01mKeyboardInterrupt\u001B[39;00m:\n\u001B[32m   1318\u001B[39m     \u001B[38;5;66;03m# re-raise KeyboardInterrupt, to truncate traceback\u001B[39;00m\n\u001B[32m   1319\u001B[39m     msg = \u001B[33m\"\u001B[39m\u001B[33mInterrupted by user\u001B[39m\u001B[33m\"\u001B[39m\n\u001B[32m-> \u001B[39m\u001B[32m1320\u001B[39m     \u001B[38;5;28;01mraise\u001B[39;00m \u001B[38;5;167;01mKeyboardInterrupt\u001B[39;00m(msg) \u001B[38;5;28;01mfrom\u001B[39;00m\u001B[38;5;250m \u001B[39m\u001B[38;5;28;01mNone\u001B[39;00m\n\u001B[32m   1321\u001B[39m \u001B[38;5;28;01mexcept\u001B[39;00m \u001B[38;5;167;01mException\u001B[39;00m:\n\u001B[32m   1322\u001B[39m     \u001B[38;5;28mself\u001B[39m.log.warning(\u001B[33m\"\u001B[39m\u001B[33mInvalid Message:\u001B[39m\u001B[33m\"\u001B[39m, exc_info=\u001B[38;5;28;01mTrue\u001B[39;00m)\n",
      "\u001B[31mKeyboardInterrupt\u001B[39m: Interrupted by user"
     ]
    }
   ],
   "execution_count": 14
  },
  {
   "metadata": {},
   "cell_type": "code",
   "outputs": [],
   "execution_count": null,
   "source": "",
   "id": "ce2445f4923f7e21"
  }
 ],
 "metadata": {
  "kernelspec": {
   "display_name": "Python 3",
   "language": "python",
   "name": "python3"
  },
  "language_info": {
   "codemirror_mode": {
    "name": "ipython",
    "version": 2
   },
   "file_extension": ".py",
   "mimetype": "text/x-python",
   "name": "python",
   "nbconvert_exporter": "python",
   "pygments_lexer": "ipython2",
   "version": "2.7.6"
  }
 },
 "nbformat": 4,
 "nbformat_minor": 5
}
