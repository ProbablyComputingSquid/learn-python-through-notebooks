{
 "cells": [
  {
   "metadata": {},
   "cell_type": "markdown",
   "source": [
    "# Introduction to Python!\n",
    "\n",
    "> _Python is an experiment in how much freedom programmers need. Too much freedom and nobody can read another's code; too little and expressiveness is endangered._ ~ Guido van Rossum, Creator of Python\n",
    "\n",
    "> _Python - why settle for snake oil when you can have the whole snake?_ ~ Mark Jackson\n",
    "\n",
    "In today's lesson, we will be discussing the following questions: What is Python? How do I use it, and more importantly, why should I use it?\n",
    "\n",
    "Python is a high level programming language, meaning that you are dealing more with concepts and ideas rather than manipulating the bits and bytes of a computer. This makes it an easy language for beginners, and when coupled with its intuitive syntax is a great language for people first learning how to code. But fear not, for if you are not a beginner, Python is popularly used in real-life professions, ranging from ML/Data Analysis to mathematics and developing desktop applications.\n",
    "\n",
    "Python is designed to be easy to read and write, which makes it a great language for beginners. It does away with curly braces and semicolons, and instead uses indentation and whitespace to define code blocks. This makes it easier to read and understand, especially for those who are new to programming. For this set of lessons, we will be using Python 3, which is the latest version of the language. Although Python 2 is still in use in some legacy systems, it only receives security patches.\n",
    "\n",
    "### A few words before we dive in\n",
    "\n",
    "sooo its almost 9pm as i right these words. my brain is slowly melting. i have spent the better part of an hour debugging my wifi drivers on my twinkpad. i have been grinding out these lessons over the past week and a half, and its been taking a toll. ive gone back to write this as an apology for any mistakes or lack of clarity. i write this as someone who has been programming for a handful of years, and i understand that some of the concept that i take for granted, you may have never heard of. i apologize if i do not explain something, please dont hesitate to ask me about it. ill do my best to explain.\n",
    "\n",
    "The other thing is that im not exactly the best writer. i barely passed english 2 sophomore year. my writing quality is proportional to the amount of sleep i got, and i didnt get much sleep last night. as the weeks go by, youll probably be able to tell that it starts out very professional like and slowly degrades into a casual conversation, please forgive me. i tend to write how i would speak to y'all, which explains the casual tone and constant comma splices lmao. i tried to write inside jokes and memes into the lessons to make them more fun so if you think its dry im sorry\n"
   ],
   "id": "5cfc0bb57c4e4fb9"
  },
  {
   "metadata": {},
   "cell_type": "markdown",
   "source": [
    "## Your First Python Script\n",
    "\n",
    "For now, let's start with the basics. The first \"tool\" under your toolbelt will be printing output to the console. While you will not find a lot of command-line applications for popular use written in Python (except tools for other developers!), printing is still an essential tool for debugging your programs and in the first stages of development. To print to the console, type (or run the following code cell):\n"
   ],
   "id": "ea5ae82e4fda4520"
  },
  {
   "metadata": {
    "collapsed": true
   },
   "cell_type": "code",
   "outputs": [],
   "execution_count": null,
   "source": "print(\"Hello, World!\")",
   "id": "initial_id"
  },
  {
   "metadata": {},
   "cell_type": "markdown",
   "source": "Wonderful! You have just written your first Python script. Well, I actually wrote it. Let's take the magnifying glass to this code. The `print` function is a built-in function in Python that takes in a string (a sequence of characters) and outputs it to the console. The string is enclosed in quotation marks, which tells Python that it is a string and not a variable or some other type of data. Now, let's try printing something of your choice. try printing your name below:",
   "id": "f97b19198e4677fd"
  },
  {
   "metadata": {},
   "cell_type": "code",
   "outputs": [],
   "execution_count": null,
   "source": "# write a print statement here and run it",
   "id": "1f40c56b228dc899"
  },
  {
   "metadata": {},
   "cell_type": "markdown",
   "source": "Now try printing out something of your own choice, like your name, and your favorite ice cream flavor. Print these out on different print statements and see what happens.",
   "id": "948e4f11d356ff99"
  },
  {
   "metadata": {},
   "cell_type": "code",
   "outputs": [],
   "execution_count": null,
   "source": "# try printing it out here",
   "id": "f491bccb1ea66088"
  },
  {
   "metadata": {},
   "cell_type": "markdown",
   "source": "You're seeing this because Python automatically adds a new line after every print statement. You'll learn how to change this in a later lesson.",
   "id": "21b19b44eb850e8f"
  },
  {
   "metadata": {},
   "cell_type": "markdown",
   "source": [
    "## Python Syntax\n",
    "\n",
    "As mentioned earlier, Python relies strongly on indentation and whitespace to define code blocks instead of semicolons and curly braces. For an example, we will be using `if` statements, which we will be discussing in more detail later. An `if` statement is a conditional statement that allows you to execute a block of code only if a certain condition is met. Here is an example of an `if` statement in Python:"
   ],
   "id": "b1031d38b70e2065"
  },
  {
   "metadata": {},
   "cell_type": "code",
   "outputs": [],
   "execution_count": null,
   "source": [
    "if 2 + 2 > 3: # if 2 plus 2 is greater than 3\n",
    "    print(\"2 + 2 is greater than 3\")"
   ],
   "id": "54b20809fb8db9df"
  },
  {
   "metadata": {},
   "cell_type": "markdown",
   "source": "This indentation is crucial in Python, as it tells the interpreter which lines of code belong to the `if` statement. In this case, the line `print(\"1 + 1 is greater than 3\")` is indented, which means that it will only be executed if the condition `2 + 2 > 3` is true. If we were to remove the indentation, we would get an error. Try it out by running the following code cell:",
   "id": "bdee50a075aa5335"
  },
  {
   "metadata": {},
   "cell_type": "code",
   "outputs": [],
   "execution_count": null,
   "source": [
    "if 1 + 1 > 3:\n",
    "print(\"1 + 1 is greater than 3\")"
   ],
   "id": "13574443eb9907fa"
  },
  {
   "metadata": {},
   "cell_type": "markdown",
   "source": [
    "Removing the indentation means that a line no longer belongs to the `if` statement, and thus will always be executed. However, since Python expects an indented block after the `if` statement, it raises an `IndentationError`. This is a common mistake for beginners, so be sure to always check your indentation when writing Python code.\n",
    "This following code cell is an example of correct indentation. Run it to see that it works."
   ],
   "id": "408b27d45c29e58a"
  },
  {
   "metadata": {},
   "cell_type": "code",
   "outputs": [],
   "execution_count": null,
   "source": [
    "if 1 + 1 > 3:\n",
    "    print(\"1 + 1 is greater than 3\")\n",
    "print(\"This line is not indented, so it will always be executed.\")"
   ],
   "id": "8e23c5c5a5850055"
  },
  {
   "metadata": {},
   "cell_type": "markdown",
   "source": "Now, write an if statement that checks if 3 + 9 is greater than 7, and if so, print out something. Afterwards, print out another equation. Make sure to indent it correctly!",
   "id": "d89d2f8bff2057b3"
  },
  {
   "metadata": {},
   "cell_type": "markdown",
   "source": [
    "## Calling functions in Python\n",
    "\n",
    "Functions are a large part of Python, they allow you to reuse code and organize your program into smaller and more managable slices. We'll be covering them more in depth in a later chapter. What you need to know for now, is that functions are called using their name, and a parenthesis. If the function takes in arguments (no, not the ones you get into with people on twitter), which are inputs to the function, you will put them inside the parenthesis. For example, the `print` function takes in a string as an argument, which is the text that you want to print to the console.\n",
    "\n",
    "Some functions have required and optional arguments. Required arguments are those that must be provided when calling the function, while optional arguments have default values and can be omitted."
   ],
   "id": "db160acd96251777"
  },
  {
   "metadata": {},
   "cell_type": "code",
   "outputs": [],
   "execution_count": null,
   "source": [
    "def my_function(argument):\n",
    "    print(\"You passed in the argument: \" + argument)\n",
    "my_function(\"Hello, World!\")"
   ],
   "id": "2d86bb363be72685"
  },
  {
   "metadata": {},
   "cell_type": "markdown",
   "source": [
    "## Variables in Python\n",
    "\n",
    "Variables are a way to store data in Python. They allow you to give a value a name, which you can then use to refer to that value later. It's also a great way to make your code more readable and maintainable, as you can store user data in variables and use them throughout your code. In Python, you can create a variable by simply assigning a value to it using the `=` operator. For example, you can create a variable called `x` and assign it the value of `5` like this:"
   ],
   "id": "8454f87370a3242d"
  },
  {
   "metadata": {
    "ExecuteTime": {
     "end_time": "2025-08-12T15:10:22.174124Z",
     "start_time": "2025-08-12T15:10:22.153190Z"
    }
   },
   "cell_type": "code",
   "source": [
    "x = 5\n",
    "print(x)\n",
    "pi = 3.1415962\n",
    "print(\"I love \" + str(pi))"
   ],
   "id": "695b335ef1c2d239",
   "outputs": [
    {
     "name": "stdout",
     "output_type": "stream",
     "text": [
      "5\n",
      "I love 3.1415962\n"
     ]
    }
   ],
   "execution_count": 2
  },
  {
   "metadata": {},
   "cell_type": "markdown",
   "source": [
    "As you can see below, I'm naming variables using the `snake_case` convention (haha, because its Python, which is a snake). This means that you use lowercase letters and underscores to separate words in a variable name. For example, `my_variable` is a valid variable name, while `MyVariable` is not. This is just a convention, but it helps make your code more readable and consistent.\n",
    "\n",
    "You can also create variables that store strings, which are sequences of characters. You can store all sorts of things other than strings and numbers, like booleans (true/false), objects, or functions! For now, let's create a variable called `name` and assign it the value of `\"John\"` like this:"
   ],
   "id": "e9120204536ff49f"
  },
  {
   "metadata": {},
   "cell_type": "code",
   "outputs": [],
   "execution_count": null,
   "source": [
    "his_name = \"John\"\n",
    "print(\"His name is \" + his_name)\n",
    "my_name # complete the variable declaration here!\n",
    "print() # now print out your name"
   ],
   "id": "386473072062d87b"
  },
  {
   "metadata": {},
   "cell_type": "markdown",
   "source": [
    "Now, try creating your own variables and printing them out. How about you make a few variables that store your `name`, `age`, and `favorite_icecream_flavor`? Then print out a sentence that includes them all!\n",
    "###### _A little tip: Just remember to use the `+` operator to concatenate strings, and use `str()` to convert non-string variables to strings when necessary. In Python, you cannot add a string and a number together, because they are different data types. If you try to do that, you will get a `TypeError`._\n"
   ],
   "id": "37cd9ed0e9ca1cc3"
  },
  {
   "metadata": {},
   "cell_type": "markdown",
   "source": "Just as a note, all of these exercises are completely optional, but they are here for _your_ sake. I'll never know if you skip one, but you're only harming yourself.",
   "id": "9e23604b2828ea85"
  },
  {
   "metadata": {},
   "cell_type": "code",
   "outputs": [],
   "execution_count": null,
   "source": [
    "## Your turn :3\n",
    "# Declare the variables here\n",
    "\n",
    "# Print them all out in a single print statement"
   ],
   "id": "7a37bd8062631e39"
  },
  {
   "metadata": {},
   "cell_type": "markdown",
   "source": [
    "## Comments in Python\n",
    "\n",
    "Comments are like adding notes to your code, just like how my English teacher marks up my essays for grammar mistakes! They are not executed by the interpreter, but they can be very useful for explaining what your code does or for leaving reminders for yourself. You can also \"comment out\" code that you don't want to run.\n",
    "In Python, you can create a comment by using the `#` symbol. For example:"
   ],
   "id": "eedd4c11032bb426"
  },
  {
   "metadata": {},
   "cell_type": "code",
   "outputs": [],
   "execution_count": null,
   "source": [
    "# The following code prints out 2\n",
    "print (1 + 1)"
   ],
   "id": "3f44a0cb05c950dd"
  },
  {
   "metadata": {},
   "cell_type": "code",
   "outputs": [],
   "execution_count": null,
   "source": [
    "# try commenting out the line below by adding a `#` at the beginning of the line\n",
    "# print(\"This line is commented out and will not be executed.\")\n",
    "print(\"Comment out this line!\")"
   ],
   "id": "b18a664c7e3bdf06"
  },
  {
   "metadata": {},
   "cell_type": "markdown",
   "source": [
    "## Math in Python\n",
    "Python can be used as a calculator, and it supports all the basic arithmetic operations like addition, subtraction, multiplication, and division.\n",
    "Most of the operation are the same as normal math. However, there isn't a division sign on the standard keyboard, so we use one forward slash (`/`) for division, two asterisks for exponentiating (because you're multiplying multiple times).\n",
    "\n",
    "\n",
    "Here's the list of every operator you'll need to ever use."
   ],
   "id": "7a7153dec817dae3"
  },
  {
   "metadata": {},
   "cell_type": "code",
   "outputs": [],
   "execution_count": null,
   "source": [
    "print(5 + 3)  # Addition\n",
    "print(5 - 3)  # Subtraction\n",
    "print(5 * 3)  # Multiplication\n",
    "print(5 / 3)  # Division\n",
    "print(5 // 3) # Floor Division\n",
    "print(5 % 3)  # Modulus\n",
    "print(5 ** 3) # Exponentiation (raising to the power of)\n",
    "print(5 + 3 * 2)  # Order of operations"
   ],
   "id": "a997cca30aa3c69e"
  },
  {
   "metadata": {},
   "cell_type": "markdown",
   "source": "Let's try out some basic math! Try adding 6 and 7 and printing out the result.",
   "id": "d37d0a73164529a7"
  },
  {
   "metadata": {},
   "cell_type": "code",
   "outputs": [],
   "execution_count": null,
   "source": "# write your code here\n",
   "id": "4590c080d86514cb"
  },
  {
   "metadata": {},
   "cell_type": "markdown",
   "source": "Then, try multiplying 62 and 81 and printing it out.",
   "id": "e1a59fe53e17a797"
  },
  {
   "metadata": {},
   "cell_type": "code",
   "outputs": [],
   "execution_count": null,
   "source": "# multiply!\n",
   "id": "b8d81989b035fbfc"
  },
  {
   "metadata": {},
   "cell_type": "markdown",
   "source": "Now, try adding 2 and 8, multiplying that by 9, and dividing it all by 3. Print that out.",
   "id": "ddd1cdc66e99ab3b"
  },
  {
   "metadata": {},
   "cell_type": "code",
   "outputs": [],
   "execution_count": null,
   "source": "# here!\n",
   "id": "96d57b3c206187ad"
  },
  {
   "metadata": {},
   "cell_type": "markdown",
   "source": [
    "\n",
    "\n",
    "\n",
    "Python also has shorthand operators that allow you to perform an operation and assign the result to a variable in a single step. For example, instead of writing `x = x + 5`, you can write `x += 5`. This shorthand also works with strings, where applicable.\n",
    "Here are some examples of shorthand operators:"
   ],
   "id": "2ec0b39771d28739"
  },
  {
   "metadata": {},
   "cell_type": "code",
   "outputs": [],
   "execution_count": null,
   "source": [
    "x = 6\n",
    "x += 3  # Equivalent to x = x + 3\n",
    "print(x)\n",
    "y = \"Hello\"\n",
    "y += \" World!\"  # Equivalent to y = y + \" World!\"\n",
    "print(y)\n",
    "x *= 2  # Equivalent to x = x * 2\n",
    "print(x)"
   ],
   "id": "231580ff6f38832b"
  },
  {
   "metadata": {},
   "cell_type": "markdown",
   "source": [
    "## Practice - Ask a user for their info, and format it\n",
    "\n",
    "Let's put all of this together and create a simple \"Registration\" program that asks the user for their name, age, and date of enrollment, and then prints out a formatted sentence with that information. assign these valuables to variables that you create, and print them all out.\n",
    "\n",
    "At the end, you should have a short code snippet which should neatly print the users name, age, and password. We have little under our toolbelt right now, so let's keep it simple."
   ],
   "id": "3230f4039fd83fb7"
  },
  {
   "metadata": {
    "ExecuteTime": {
     "end_time": "2025-09-19T01:33:43.976676Z",
     "start_time": "2025-09-19T01:33:40.533750Z"
    }
   },
   "cell_type": "code",
   "source": "# write your code here",
   "id": "cbe0fa25649c85c3",
   "outputs": [
    {
     "name": "stdout",
     "output_type": "stream",
     "text": [
      "joe\n"
     ]
    }
   ],
   "execution_count": 1
  },
  {
   "metadata": {},
   "cell_type": "markdown",
   "source": "",
   "id": "4f9f1e949d0978a1"
  }
 ],
 "metadata": {
  "kernelspec": {
   "display_name": "Python 3",
   "language": "python",
   "name": "python3"
  },
  "language_info": {
   "codemirror_mode": {
    "name": "ipython",
    "version": 2
   },
   "file_extension": ".py",
   "mimetype": "text/x-python",
   "name": "python",
   "nbconvert_exporter": "python",
   "pygments_lexer": "ipython2",
   "version": "2.7.6"
  }
 },
 "nbformat": 4,
 "nbformat_minor": 5
}
