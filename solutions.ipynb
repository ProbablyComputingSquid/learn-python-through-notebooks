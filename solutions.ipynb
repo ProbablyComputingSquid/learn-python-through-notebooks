{
 "cells": [
  {
   "cell_type": "code",
   "execution_count": null,
   "id": "initial_id",
   "metadata": {
    "collapsed": true
   },
   "outputs": [],
   "source": [
    ""
   ]
  },
  {
   "metadata": {},
   "cell_type": "markdown",
   "source": [
    "## solution to data structures bonus challenge for tuples\n",
    "colinear line segments!!"
   ],
   "id": "890d8ecdf5c15887"
  },
  {
   "metadata": {},
   "cell_type": "code",
   "outputs": [],
   "execution_count": null,
   "source": [
    "def are_colinear(point1:tuple[int,int,int,int], point2:tuple[int,int,int,int]) -> bool:\n",
    "    x1,y1,x2,y2 = point1\n",
    "    x3,y3,x4,y4 = point2\n",
    "\n",
    "    point1_slope = (y2 - y1) / (x2 - x1) if (x2 - x1) != 0 else float('inf')  # Handle vertical line case\n",
    "    point2_slope = (y4 - y3) / (x4 - x3) if (x4 - x3) != 0 else float('inf')\n",
    "\n",
    "    print(\"point1_slope:\", point1_slope)\n",
    "    print(\"point2_slope:\", point2_slope)\n",
    "    if point1_slope == point2_slope:\n",
    "        return True\n",
    "    return False"
   ],
   "id": "cc0208171d3eaacd"
  }
 ],
 "metadata": {
  "kernelspec": {
   "display_name": "Python 3",
   "language": "python",
   "name": "python3"
  },
  "language_info": {
   "codemirror_mode": {
    "name": "ipython",
    "version": 2
   },
   "file_extension": ".py",
   "mimetype": "text/x-python",
   "name": "python",
   "nbconvert_exporter": "python",
   "pygments_lexer": "ipython2",
   "version": "2.7.6"
  }
 },
 "nbformat": 4,
 "nbformat_minor": 5
}
