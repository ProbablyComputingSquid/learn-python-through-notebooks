{
 "cells": [
  {
   "metadata": {},
   "cell_type": "markdown",
   "source": "# solutions to all non-trivial practice exercises",
   "id": "5bf2778979e28449"
  },
  {
   "metadata": {},
   "cell_type": "markdown",
   "source": [
    "## solution to data structures bonus challenge for tuples - Data Structures\n",
    "colinear line segments!!"
   ],
   "id": "890d8ecdf5c15887"
  },
  {
   "metadata": {},
   "cell_type": "code",
   "outputs": [],
   "execution_count": null,
   "source": [
    "def are_colinear(point1:tuple[int,int,int,int], point2:tuple[int,int,int,int]) -> bool:\n",
    "    x1,y1,x2,y2 = point1\n",
    "    x3,y3,x4,y4 = point2\n",
    "\n",
    "    point1_slope = (y2 - y1) / (x2 - x1) if (x2 - x1) != 0 else float('inf')  # Handle vertical line case\n",
    "    point2_slope = (y4 - y3) / (x4 - x3) if (x4 - x3) != 0 else float('inf')\n",
    "\n",
    "    print(\"point1_slope:\", point1_slope)\n",
    "    print(\"point2_slope:\", point2_slope)\n",
    "    if point1_slope == point2_slope:\n",
    "        return True\n",
    "    return False"
   ],
   "id": "cc0208171d3eaacd"
  },
  {
   "metadata": {},
   "cell_type": "markdown",
   "source": [
    "So, what we first did was unpack the tuples into their respective coordinates. Then, we could calculate the slope of each line segment using point slope. The if clause at the end checks for division by zero, and prevents it by issuing an \"infinity\" case.\n",
    "\n",
    "If the slopes of the two line segments are equal, that means that the lines would be parrallel and thus colinear. We then return True and False respectively."
   ],
   "id": "d3accfe0816836c3"
  },
  {
   "metadata": {},
   "cell_type": "markdown",
   "source": "## Greatest common divisor - functions and classes",
   "id": "b9285b1d168d7d01"
  },
  {
   "metadata": {
    "ExecuteTime": {
     "end_time": "2025-08-21T16:52:24.365112Z",
     "start_time": "2025-08-21T16:52:24.355177Z"
    }
   },
   "cell_type": "code",
   "source": [
    "def gcd(a, b):\n",
    "    while b:\n",
    "        a, b = b, a % b\n",
    "        print(a, b)\n",
    "    return a\n",
    "gcd(12, 15)  # should return 3"
   ],
   "id": "63826e5536435806",
   "outputs": [
    {
     "name": "stdout",
     "output_type": "stream",
     "text": [
      "15 12\n",
      "12 3\n",
      "3 0\n"
     ]
    },
    {
     "data": {
      "text/plain": [
       "3"
      ]
     },
     "execution_count": 1,
     "metadata": {},
     "output_type": "execute_result"
    }
   ],
   "execution_count": 1
  },
  {
   "metadata": {},
   "cell_type": "markdown",
   "source": [
    "While this is not the only way to find the greatest common divisor, it is a very efficient way to do so. This is known as the Euclidean algorithm, and it works by repeatedly replacing the larger number with the remainder of the division of the two numbers until one of them becomes zero. The other number at that point will be the GCD. For the proof to why this works, Reuben will explain, or you can consult [wikipedia](https://en.wikipedia.org/wiki/Euclidean_algorithm)\n",
    "\n",
    "Breaking down the code line by line, we first have a while loop that continues as long as b is not zero.\n",
    "In each iteration, we update the values of a and b. We set a to b, and b to the remainder of the division of a by b.\n",
    "If you remember tuple unpacking from the data structures section, this is a similar concept where we are unpacking the values of a and b into new values in a single line.\n",
    "\n",
    "When b becomes zero, we exit the loop and return a, which is now the GCD of the original two numbers."
   ],
   "id": "9e91636272b13eef"
  },
  {
   "metadata": {},
   "cell_type": "code",
   "outputs": [],
   "execution_count": null,
   "source": [
    "def gcd(a,b):\n",
    "    if b == 0:\n",
    "        return a\n",
    "    else:\n",
    "        return gcd(b, a % b)\n",
    "print(gcd(25,5))\n",
    "print(gcd(72,86))"
   ],
   "id": "52c6955058a436a3"
  },
  {
   "metadata": {},
   "cell_type": "markdown",
   "source": [
    "This is just a recursive version of the same algorithm. The base case here is when b is zero, so we return a. Euclid said something about how this works, when you have two numbers, a and b, you just keep dividing the larger number by the smaller number and replacing it with the remainder until one of them is zero, and the other number is the GCD. some other french guy did some other proof on this with sticks and funny looking figures but hey im not the math girl here.\n",
    "\n",
    "![euclid proof](https://upload.wikimedia.org/wikipedia/commons/thumb/9/96/Euclid%27s_algorithm_Book_VII_Proposition_2_3.svg/500px-Euclid%27s_algorithm_Book_VII_Proposition_2_3.svg.png)\n",
    "\n",
    "Euclid's method for finding the greatest common divisor (GCD) of two starting lengths BA and DC, both defined to be multiples of a common \"unit\" length. The length DC being shorter, it is used to \"measure\" BA, but only once because the remainder EA is less than DC. EA now measures (twice) the shorter length DC, with remainder FC shorter than EA. Then FC measures (three times) length EA. Because there is no remainder, the process ends with FC being the GCD. On the right Nicomachus's example with numbers 49 and 21 resulting in their GCD of 7 (derived from Heath 1908:300).\n",
    "- wikipedia"
   ],
   "id": "d76d86b3a3a9271f"
  },
  {
   "metadata": {},
   "cell_type": "code",
   "outputs": [],
   "execution_count": null,
   "source": "",
   "id": "134824d4f7570878"
  }
 ],
 "metadata": {
  "kernelspec": {
   "display_name": "Python 3",
   "language": "python",
   "name": "python3"
  },
  "language_info": {
   "codemirror_mode": {
    "name": "ipython",
    "version": 2
   },
   "file_extension": ".py",
   "mimetype": "text/x-python",
   "name": "python",
   "nbconvert_exporter": "python",
   "pygments_lexer": "ipython2",
   "version": "2.7.6"
  }
 },
 "nbformat": 4,
 "nbformat_minor": 5
}
